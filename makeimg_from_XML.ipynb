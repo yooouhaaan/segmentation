{
 "cells": [
  {
   "cell_type": "code",
   "execution_count": 4,
   "metadata": {},
   "outputs": [
    {
     "name": "stdout",
     "output_type": "stream",
     "text": [
      "37\n",
      "37\n"
     ]
    }
   ],
   "source": [
    "import matplotlib.pylab as plt\n",
    "from PIL import Image, ImageDraw\n",
    "import cv2\n",
    "import numpy as np\n",
    "import os\n",
    "\n",
    "path2train = '/home/youhan/Desktop/CELLsegmentation/MoNuSeg 2018 Training Data/MoNuSeg 2018 Training Data/Tissue Images'\n",
    "path2annotation = '/home/youhan/Desktop/CELLsegmentation/MoNuSeg 2018 Training Data/MoNuSeg 2018 Training Data/Annotations'\n",
    "\n",
    "filenames = [d for d in os.listdir(path2train)]\n",
    "full_filepath = []\n",
    "annotation_path = []\n",
    "for fn in filenames:\n",
    "    filepath = os.path.join(path2train,fn)\n",
    "    full_filepath.append(filepath)\n",
    "    an = filepath.replace('.','/').split('/')[-2]\n",
    "    anno_filepath = path2annotation +'/'+an +'.xml'\n",
    "    annotation_path.append(anno_filepath)\n",
    "    \n",
    "print(len(full_filepath))\n",
    "\n",
    "print(len(annotation_path))"
   ]
  },
  {
   "cell_type": "code",
   "execution_count": null,
   "metadata": {},
   "outputs": [],
   "source": [
    "import os\n",
    "import xml.etree.ElementTree as ET\n",
    "def GetXYpos(xml_file):\n",
    "    tree = ET.parse(xml_file)\n",
    "    root = tree.getroot()\n",
    "    VertexPerRegion = []\n",
    "    for region in root.iter(\"Region\"):\n",
    "        pos = []\n",
    "        for vertex in region.iter(\"Vertex\"):\n",
    "             tempos = [float(vertex.attrib['X']),float(vertex.attrib['Y'])]\n",
    "             pos.append(tempos)\n",
    "    \n",
    "        VertexPerRegion.append(pos)\n",
    "        \n",
    "    return VertexPerRegion"
   ]
  },
  {
   "cell_type": "code",
   "execution_count": 29,
   "metadata": {},
   "outputs": [],
   "source": [
    "def MakeAnnotation(VertexPerRegion):\n",
    "    masks = np.zeros((1000,1000),dtype=np.uint8)\n",
    "    for i in range(0,len(VertexPerRegion)-1):\n",
    "        pts = np.array(VertexPerRegion[i],dtype=np.int32)\n",
    "        img = cv2.fillPoly(masks,[pts],color=(255,0,0))\n",
    "     \n",
    "    return img"
   ]
  },
  {
   "cell_type": "code",
   "execution_count": 31,
   "metadata": {},
   "outputs": [],
   "source": [
    "for i in range(0,len(annotation_path)-1):\n",
    "    xml_file = annotation_path[i]\n",
    "    VPR = GetXYpos(xml_file)\n",
    "    Anno_img = MakeAnnotation(VPR)\n",
    "    an = xml_file.replace('.','/').split('/')[-2]\n",
    "    save_path = '/home/youhan/Desktop/CELLsegmentation/Annotation/'+an+'.PNG'\n",
    "    cv2.imwrite(save_path,Anno_img)"
   ]
  }
 ],
 "metadata": {
  "kernelspec": {
   "display_name": "Python 3.8.10 64-bit",
   "language": "python",
   "name": "python3"
  },
  "language_info": {
   "codemirror_mode": {
    "name": "ipython",
    "version": 3
   },
   "file_extension": ".py",
   "mimetype": "text/x-python",
   "name": "python",
   "nbconvert_exporter": "python",
   "pygments_lexer": "ipython3",
   "version": "3.8.10"
  },
  "orig_nbformat": 4,
  "vscode": {
   "interpreter": {
    "hash": "e7370f93d1d0cde622a1f8e1c04877d8463912d04d973331ad4851f04de6915a"
   }
  }
 },
 "nbformat": 4,
 "nbformat_minor": 2
}
